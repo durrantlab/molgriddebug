{
 "cells": [
  {
   "cell_type": "code",
   "execution_count": 36,
   "metadata": {},
   "outputs": [],
   "source": [
    "import molgrid\n",
    "import torch\n",
    "import matplotlib.pyplot as plt"
   ]
  },
  {
   "cell_type": "code",
   "execution_count": 37,
   "metadata": {},
   "outputs": [],
   "source": [
    "# atom typing based on atomic number and valence, with a constant radius of 1.5\n",
    "def mytyper(atom):\n",
    "    if hasattr(atom, 'GetValence'):\n",
    "        return ([atom.GetAtomicNum(),atom.GetValence()], 1.5)\n",
    "    else:\n",
    "        return ([atom.GetAtomicNum(),atom.GetExplicitDegree()], 1.5)"
   ]
  },
  {
   "cell_type": "code",
   "execution_count": 38,
   "metadata": {},
   "outputs": [],
   "source": [
    "# Load an example batch. I'm pretty sure we somehow specify the typer here, but\n",
    "# not certain how. See\n",
    "# https://gnina.github.io/libmolgrid/python/index.html#the-exampleprovider-class\n",
    "\n",
    "### HELP US DAVID KOES!!! ###\n",
    "\n",
    "example = molgrid.ExampleProvider(\n",
    "    default_batch_size=1\n",
    ")\n",
    "example.populate(\"test.types\")"
   ]
  },
  {
   "cell_type": "code",
   "execution_count": 39,
   "metadata": {},
   "outputs": [],
   "source": [
    "# Extract labels and voxel grid\n",
    "device=\"cuda\"\n",
    "terms = torch.zeros(\n",
    "    (1, example.num_labels()), dtype=torch.float32, device=device\n",
    ")\n",
    "input_voxel = torch.zeros(\n",
    "    (1,) + (28, 48, 48, 48), dtype=torch.float32, device=device\n",
    ")\n",
    "test_batch = example.next_batch()\n",
    "test_batch.extract_labels(terms)"
   ]
  },
  {
   "cell_type": "code",
   "execution_count": 32,
   "metadata": {},
   "outputs": [],
   "source": [
    "# Make the grid and get the batch data\n",
    "gmaker = molgrid.GridMaker()\n",
    "gmaker.forward(test_batch, input_voxel)"
   ]
  },
  {
   "cell_type": "code",
   "execution_count": 35,
   "metadata": {},
   "outputs": [
    {
     "data": {
      "text/plain": [
       "<matplotlib.image.AxesImage at 0x7f392d2ace20>"
      ]
     },
     "execution_count": 35,
     "metadata": {},
     "output_type": "execute_result"
    },
    {
     "data": {
      "image/png": "[encoded data removed]",
      "text/plain": [
       "<Figure size 480x480 with 1 Axes>"
      ]
     },
     "metadata": {},
     "output_type": "display_data"
    }
   ],
   "source": [
    "\n",
    "# Get the first item in the batch and visualize to confirm successful loading\n",
    "input_voxel_first_from_batch = input_voxel.cpu()[0]\n",
    "slice = input_voxel_first_from_batch[0,24,:,:]\n",
    "plt.matshow(slice)\n"
   ]
  },
  {
   "cell_type": "code",
   "execution_count": null,
   "metadata": {},
   "outputs": [],
   "source": []
  }
 ],
 "metadata": {
  "kernelspec": {
   "display_name": "cenet",
   "language": "python",
   "name": "python3"
  },
  "language_info": {
   "codemirror_mode": {
    "name": "ipython",
    "version": 3
   },
   "file_extension": ".py",
   "mimetype": "text/x-python",
   "name": "python",
   "nbconvert_exporter": "python",
   "pygments_lexer": "ipython3",
   "version": "3.9.16"
  }
 },
 "nbformat": 4,
 "nbformat_minor": 2
}
